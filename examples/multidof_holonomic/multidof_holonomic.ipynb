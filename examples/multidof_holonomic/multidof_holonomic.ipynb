{
 "cells": [
  {
   "cell_type": "markdown",
   "metadata": {},
   "source": [
    "# Problem Description\n",
    "\n",
    "This is an example of a holonomic system that includes both particles and rigid bodies with contrbuting forces and torques, some of which are specified forces and torques.\n",
    "\n",
    "![](multidof-holonomic.png)"
   ]
  },
  {
   "cell_type": "markdown",
   "metadata": {},
   "source": [
    "Generalized coordinates:\n",
    "- $q_1$: Lateral distance of block from wall.\n",
    "- $q_2$: Angle of the compound pendulum from vertical.\n",
    "- $q_3$: Angle of the simple pendulum from the compound pendulum.\n",
    "\n",
    "Generalized speeds:\n",
    "- $u_1 = \\dot{q}_1$: Lateral speed of block.\n",
    "- $u_2 = {}^N\\bar{v}^{Bo} \\cdot \\hat{b}_x$\n",
    "- $u_3 = \\dot{q}_3$: Angular speed of C relative to B.\n",
    "\n",
    "The block and the bob of the simple pendulum are modeled as particles and $B$ is a rigid body.\n",
    "\n",
    "Loads:\n",
    "\n",
    "- gravity acts on $B$ and $P_c$.\n",
    "- a linear spring and damper act on $P_{ab}$\n",
    "- a rotational linear spring acts on $C$ relative to $B$\n",
    "- specified torque $T$ acts on $B$ relative to $N$\n",
    "- specified force $F$ acts on $P_{ab}$"
   ]
  },
  {
   "cell_type": "code",
   "execution_count": 1,
   "metadata": {},
   "outputs": [],
   "source": [
    "import sympy as sm\n",
    "import sympy.physics.mechanics as me\n",
    "me.init_vprinting()"
   ]
  },
  {
   "cell_type": "markdown",
   "metadata": {},
   "source": [
    "# Generalized coordinates"
   ]
  },
  {
   "cell_type": "code",
   "execution_count": 2,
   "metadata": {},
   "outputs": [],
   "source": [
    "q1, q2, q3 = me.dynamicsymbols('q1, q2, q3')"
   ]
  },
  {
   "cell_type": "markdown",
   "metadata": {},
   "source": [
    "# Generalized speeds"
   ]
  },
  {
   "cell_type": "code",
   "execution_count": 3,
   "metadata": {},
   "outputs": [],
   "source": [
    "u1, u2, u3 = me.dynamicsymbols('u1, u2, u3')"
   ]
  },
  {
   "cell_type": "markdown",
   "metadata": {},
   "source": [
    "# Specified Inputs"
   ]
  },
  {
   "cell_type": "code",
   "execution_count": 4,
   "metadata": {},
   "outputs": [],
   "source": [
    "F, T = me.dynamicsymbols('F, T')"
   ]
  },
  {
   "cell_type": "markdown",
   "metadata": {},
   "source": [
    "# Constants"
   ]
  },
  {
   "cell_type": "code",
   "execution_count": 5,
   "metadata": {},
   "outputs": [
    {
     "data": {
      "image/png": "[encoded data removed]",
      "text/latex": [
       "$\\displaystyle \\left( k, \\  c, \\  m_{a}, \\  m_{b}, \\  m_{c}, \\  I_{B_bo}, \\  l, \\  k_{T}, \\  g\\right)$"
      ],
      "text/plain": [
       "(k, c, mₐ, m_b, m_c, I_{B_bo}, l, k_T, g)"
      ]
     },
     "execution_count": 5,
     "metadata": {},
     "output_type": "execute_result"
    }
   ],
   "source": [
    "k, c, ma, mb, mc, IB_bo, l, kT, g = sm.symbols('k, c, m_a, m_b, m_c, I_{B_bo}, l, k_T, g')\n",
    "k, c, ma, mb, mc, IB_bo, l, kT, g"
   ]
  },
  {
   "cell_type": "markdown",
   "metadata": {},
   "source": [
    "# Reference Frames"
   ]
  },
  {
   "cell_type": "code",
   "execution_count": 6,
   "metadata": {},
   "outputs": [],
   "source": [
    "N = me.ReferenceFrame('N')"
   ]
  },
  {
   "cell_type": "code",
   "execution_count": 7,
   "metadata": {},
   "outputs": [],
   "source": [
    "B = N.orientnew('B', 'Axis', (q2, N.z))"
   ]
  },
  {
   "cell_type": "code",
   "execution_count": 8,
   "metadata": {},
   "outputs": [],
   "source": [
    "C = B.orientnew('C', 'Axis', (q3, N.z))"
   ]
  },
  {
   "cell_type": "markdown",
   "metadata": {},
   "source": [
    "# Points"
   ]
  },
  {
   "cell_type": "code",
   "execution_count": 9,
   "metadata": {},
   "outputs": [],
   "source": [
    "O = me.Point('O')"
   ]
  },
  {
   "cell_type": "code",
   "execution_count": 10,
   "metadata": {},
   "outputs": [],
   "source": [
    "Pab = O.locatenew('P_{ab}', q1 * N.x)"
   ]
  },
  {
   "cell_type": "code",
   "execution_count": 11,
   "metadata": {},
   "outputs": [],
   "source": [
    "Bo = Pab.locatenew('B_o', - 2 * l / 3 * B.y)"
   ]
  },
  {
   "cell_type": "code",
   "execution_count": 12,
   "metadata": {},
   "outputs": [],
   "source": [
    "Pbc = Pab.locatenew('P_{bc}', -l * B.y)"
   ]
  },
  {
   "cell_type": "code",
   "execution_count": 13,
   "metadata": {},
   "outputs": [],
   "source": [
    "Pc = Pbc.locatenew('P_c', -l * C.y)"
   ]
  },
  {
   "cell_type": "code",
   "execution_count": 14,
   "metadata": {},
   "outputs": [
    {
     "data": {
      "image/png": "[encoded data removed]",
      "text/latex": [
       "$\\displaystyle -  l\\mathbf{\\hat{c}_y} -  l\\mathbf{\\hat{b}_y} + q_{1}\\mathbf{\\hat{n}_x}$"
      ],
      "text/plain": [
       "-l c_y + -l b_y + q₁ n_x"
      ]
     },
     "execution_count": 14,
     "metadata": {},
     "output_type": "execute_result"
    }
   ],
   "source": [
    "Pc.pos_from(O)"
   ]
  },
  {
   "cell_type": "markdown",
   "metadata": {},
   "source": [
    "# Linear Velocities"
   ]
  },
  {
   "cell_type": "code",
   "execution_count": 15,
   "metadata": {},
   "outputs": [
    {
     "data": {
      "image/png": "[encoded data removed]",
      "text/latex": [
       "$\\displaystyle \\dot{q}_{1}\\mathbf{\\hat{n}_x}$"
      ],
      "text/plain": [
       "q₁̇ n_x"
      ]
     },
     "execution_count": 15,
     "metadata": {},
     "output_type": "execute_result"
    }
   ],
   "source": [
    "Pab.set_vel(N, Pab.pos_from(O).dt(N))\n",
    "Pab.vel(N)"
   ]
  },
  {
   "cell_type": "code",
   "execution_count": 16,
   "metadata": {},
   "outputs": [
    {
     "data": {
      "image/png": "[encoded data removed]",
      "text/latex": [
       "$\\displaystyle \\dot{q}_{1}\\mathbf{\\hat{n}_x} + \\frac{2 l \\dot{q}_{2}}{3}\\mathbf{\\hat{b}_x}$"
      ],
      "text/plain": [
       "         2⋅l⋅q₂̇\n",
       "q₁̇ n_x + ────── b_x\n",
       "           3"
      ]
     },
     "execution_count": 16,
     "metadata": {},
     "output_type": "execute_result"
    }
   ],
   "source": [
    "Bo.v2pt_theory(Pab, N, B)"
   ]
  },
  {
   "cell_type": "code",
   "execution_count": 17,
   "metadata": {},
   "outputs": [
    {
     "data": {
      "image/png": "[encoded data removed]",
      "text/latex": [
       "$\\displaystyle \\dot{q}_{1}\\mathbf{\\hat{n}_x} + l \\dot{q}_{2}\\mathbf{\\hat{b}_x}$"
      ],
      "text/plain": [
       "q₁̇ n_x + l⋅q₂̇ b_x"
      ]
     },
     "execution_count": 17,
     "metadata": {},
     "output_type": "execute_result"
    }
   ],
   "source": [
    "Pbc.v2pt_theory(Pab, N, B)"
   ]
  },
  {
   "cell_type": "code",
   "execution_count": 18,
   "metadata": {},
   "outputs": [
    {
     "data": {
      "image/png": "[encoded data removed]",
      "text/latex": [
       "$\\displaystyle \\dot{q}_{1}\\mathbf{\\hat{n}_x} + l \\dot{q}_{2}\\mathbf{\\hat{b}_x} + l \\left(\\dot{q}_{2} + \\dot{q}_{3}\\right)\\mathbf{\\hat{c}_x}$"
      ],
      "text/plain": [
       "q₁̇ n_x + l⋅q₂̇ b_x + l⋅(q₂̇ + q₃̇) c_x"
      ]
     },
     "execution_count": 18,
     "metadata": {},
     "output_type": "execute_result"
    }
   ],
   "source": [
    "Pc.v2pt_theory(Pbc, N, C)"
   ]
  },
  {
   "cell_type": "markdown",
   "metadata": {},
   "source": [
    "# Kinematic Differential Equations\n",
    "\n",
    "One non-trivial generalized speed definition is used."
   ]
  },
  {
   "cell_type": "code",
   "execution_count": 19,
   "metadata": {},
   "outputs": [],
   "source": [
    "u1_eq = sm.Eq(u1, Pab.vel(N).dot(N.x))\n",
    "u2_eq = sm.Eq(u2, Bo.vel(N).dot(B.x))\n",
    "u3_eq = sm.Eq(u3, C.ang_vel_in(B).dot(B.z))"
   ]
  },
  {
   "cell_type": "code",
   "execution_count": 20,
   "metadata": {},
   "outputs": [
    {
     "data": {
      "image/png": "[encoded data removed]",
      "text/latex": [
       "$\\displaystyle \\left\\{ \\dot{q}_{1} : u_{1}, \\  \\dot{q}_{2} : \\frac{3 \\left(- u_{1} \\operatorname{cos}\\left(q_{2}\\right) + u_{2}\\right)}{2 l}, \\  \\dot{q}_{3} : u_{3}\\right\\}$"
      ],
      "text/plain": [
       "⎧            3⋅(-u₁⋅cos(q₂) + u₂)        ⎫\n",
       "⎨q₁̇: u₁, q₂̇: ────────────────────, q₃̇: u₃⎬\n",
       "⎩                    2⋅l                 ⎭"
      ]
     },
     "execution_count": 20,
     "metadata": {},
     "output_type": "execute_result"
    }
   ],
   "source": [
    "qdots = sm.solve([u1_eq, u2_eq, u3_eq], q1.diff(), q2.diff(), q3.diff())\n",
    "qdots"
   ]
  },
  {
   "cell_type": "markdown",
   "metadata": {},
   "source": [
    "Substitute expressions for the $\\dot{q}$'s."
   ]
  },
  {
   "cell_type": "code",
   "execution_count": 21,
   "metadata": {},
   "outputs": [
    {
     "data": {
      "image/png": "[encoded data removed]",
      "text/latex": [
       "$\\displaystyle u_{1}\\mathbf{\\hat{n}_x}$"
      ],
      "text/plain": [
       "u₁ n_x"
      ]
     },
     "execution_count": 21,
     "metadata": {},
     "output_type": "execute_result"
    }
   ],
   "source": [
    "Pab.set_vel(N, Pab.vel(N).subs(qdots).simplify())\n",
    "Pab.vel(N)"
   ]
  },
  {
   "cell_type": "code",
   "execution_count": 22,
   "metadata": {},
   "outputs": [
    {
     "data": {
      "image/png": "[encoded data removed]",
      "text/latex": [
       "$\\displaystyle u_{2}\\mathbf{\\hat{b}_x} -  u_{1} \\operatorname{sin}\\left(q_{2}\\right)\\mathbf{\\hat{b}_y}$"
      ],
      "text/plain": [
       "u₂ b_x + -u₁⋅sin(q₂) b_y"
      ]
     },
     "execution_count": 22,
     "metadata": {},
     "output_type": "execute_result"
    }
   ],
   "source": [
    "Bo.set_vel(N, Bo.vel(N).subs(qdots).express(B).simplify())\n",
    "Bo.vel(N)"
   ]
  },
  {
   "cell_type": "code",
   "execution_count": 23,
   "metadata": {},
   "outputs": [
    {
     "data": {
      "image/png": "[encoded data removed]",
      "text/latex": [
       "$\\displaystyle u_{1}\\mathbf{\\hat{n}_x} + (- \\frac{3 u_{1} \\operatorname{cos}\\left(q_{2}\\right)}{2} + \\frac{3 u_{2}}{2})\\mathbf{\\hat{b}_x} + (l u_{3} - \\frac{3 u_{1} \\operatorname{cos}\\left(q_{2}\\right)}{2} + \\frac{3 u_{2}}{2})\\mathbf{\\hat{c}_x}$"
      ],
      "text/plain": [
       "         ⎛  3⋅u₁⋅cos(q₂)   3⋅u₂⎞       ⎛       3⋅u₁⋅cos(q₂)   3⋅u₂⎞\n",
       "u₁ n_x + ⎜- ──────────── + ────⎟ b_x + ⎜l⋅u₃ - ──────────── + ────⎟ c_x\n",
       "         ⎝       2          2  ⎠       ⎝            2          2  ⎠"
      ]
     },
     "execution_count": 23,
     "metadata": {},
     "output_type": "execute_result"
    }
   ],
   "source": [
    "Pc.set_vel(N, Pc.vel(N).subs(qdots).simplify())\n",
    "Pc.vel(N)"
   ]
  },
  {
   "cell_type": "markdown",
   "metadata": {},
   "source": [
    "# Angular Velocities"
   ]
  },
  {
   "cell_type": "code",
   "execution_count": 24,
   "metadata": {},
   "outputs": [
    {
     "data": {
      "image/png": "[encoded data removed]",
      "text/latex": [
       "$\\displaystyle \\frac{3 \\left(- u_{1} \\operatorname{cos}\\left(q_{2}\\right) + u_{2}\\right)}{2 l}\\mathbf{\\hat{n}_z}$"
      ],
      "text/plain": [
       "3⋅(-u₁⋅cos(q₂) + u₂)\n",
       "──────────────────── n_z\n",
       "        2⋅l"
      ]
     },
     "execution_count": 24,
     "metadata": {},
     "output_type": "execute_result"
    }
   ],
   "source": [
    "B.set_ang_vel(N, B.ang_vel_in(N).subs(qdots).simplify())\n",
    "B.ang_vel_in(N)"
   ]
  },
  {
   "cell_type": "code",
   "execution_count": 25,
   "metadata": {},
   "outputs": [
    {
     "data": {
      "image/png": "[encoded data removed]",
      "text/latex": [
       "$\\displaystyle (u_{3} + \\frac{3 \\left(- u_{1} \\operatorname{cos}\\left(q_{2}\\right) + u_{2}\\right)}{2 l})\\mathbf{\\hat{n}_z}$"
      ],
      "text/plain": [
       "⎛     3⋅(-u₁⋅cos(q₂) + u₂)⎞\n",
       "⎜u₃ + ────────────────────⎟ n_z\n",
       "⎝             2⋅l         ⎠"
      ]
     },
     "execution_count": 25,
     "metadata": {},
     "output_type": "execute_result"
    }
   ],
   "source": [
    "C.set_ang_vel(B, u3 * N.z)\n",
    "C.ang_vel_in(N)"
   ]
  },
  {
   "cell_type": "markdown",
   "metadata": {},
   "source": [
    "# Mass and Inertia"
   ]
  },
  {
   "cell_type": "code",
   "execution_count": 26,
   "metadata": {},
   "outputs": [
    {
     "data": {
      "image/png": "[encoded data removed]",
      "text/latex": [
       "$\\displaystyle \\left( m_{a}, \\  m_{c}\\right)$"
      ],
      "text/plain": [
       "(mₐ, m_c)"
      ]
     },
     "execution_count": 26,
     "metadata": {},
     "output_type": "execute_result"
    }
   ],
   "source": [
    "ma, mc"
   ]
  },
  {
   "cell_type": "code",
   "execution_count": 27,
   "metadata": {},
   "outputs": [
    {
     "data": {
      "image/png": "[encoded data removed]",
      "text/latex": [
       "$\\displaystyle I_{B_bo}\\mathbf{\\hat{b}_z}\\otimes \\mathbf{\\hat{b}_z}$"
      ],
      "text/plain": [
       "I_{B_bo} b_z⊗b_z"
      ]
     },
     "execution_count": 27,
     "metadata": {},
     "output_type": "execute_result"
    }
   ],
   "source": [
    "IB = me.inertia(B, 0, 0, IB_bo)\n",
    "IB"
   ]
  },
  {
   "cell_type": "markdown",
   "metadata": {},
   "source": [
    "# Loads (forces and torques)\n",
    "\n",
    "Make sure these are defined in terms of the q's and u's."
   ]
  },
  {
   "cell_type": "code",
   "execution_count": 28,
   "metadata": {},
   "outputs": [
    {
     "data": {
      "image/png": "[encoded data removed]",
      "text/latex": [
       "$\\displaystyle (- c u_{1} - k q_{1} + F)\\mathbf{\\hat{n}_x}$"
      ],
      "text/plain": [
       "(-c⋅u₁ - k⋅q₁ + F) n_x"
      ]
     },
     "execution_count": 28,
     "metadata": {},
     "output_type": "execute_result"
    }
   ],
   "source": [
    "Rab = (F - k*q1 - c*qdots[q1.diff()]) * N.x\n",
    "Rab"
   ]
  },
  {
   "cell_type": "code",
   "execution_count": 29,
   "metadata": {},
   "outputs": [
    {
     "data": {
      "image/png": "[encoded data removed]",
      "text/latex": [
       "$\\displaystyle -  g m_{b}\\mathbf{\\hat{n}_y}$"
      ],
      "text/plain": [
       "-g⋅m_b n_y"
      ]
     },
     "execution_count": 29,
     "metadata": {},
     "output_type": "execute_result"
    }
   ],
   "source": [
    "Rbo = -(mb*g)*N.y\n",
    "Rbo"
   ]
  },
  {
   "cell_type": "code",
   "execution_count": 30,
   "metadata": {},
   "outputs": [
    {
     "data": {
      "image/png": "[encoded data removed]",
      "text/latex": [
       "$\\displaystyle -  g m_{c}\\mathbf{\\hat{n}_y}$"
      ],
      "text/plain": [
       "-g⋅m_c n_y"
      ]
     },
     "execution_count": 30,
     "metadata": {},
     "output_type": "execute_result"
    }
   ],
   "source": [
    "Rc = -(mc*g)*N.y\n",
    "Rc"
   ]
  },
  {
   "cell_type": "code",
   "execution_count": 31,
   "metadata": {},
   "outputs": [
    {
     "data": {
      "image/png": "[encoded data removed]",
      "text/latex": [
       "$\\displaystyle (k_{T} q_{3} + T)\\mathbf{\\hat{n}_z}$"
      ],
      "text/plain": [
       "(k_T⋅q₃ + T) n_z"
      ]
     },
     "execution_count": 31,
     "metadata": {},
     "output_type": "execute_result"
    }
   ],
   "source": [
    "TB = (T + kT*q3)*N.z\n",
    "TB"
   ]
  },
  {
   "cell_type": "markdown",
   "metadata": {},
   "source": [
    "Equal and opposite torque on $C$ from $B$."
   ]
  },
  {
   "cell_type": "code",
   "execution_count": 32,
   "metadata": {},
   "outputs": [
    {
     "data": {
      "image/png": "[encoded data removed]",
      "text/latex": [
       "$\\displaystyle -  k_{T} q_{3}\\mathbf{\\hat{n}_z}$"
      ],
      "text/plain": [
       "-k_T⋅q₃ n_z"
      ]
     },
     "execution_count": 32,
     "metadata": {},
     "output_type": "execute_result"
    }
   ],
   "source": [
    "TC = -kT*q3*N.z\n",
    "TC"
   ]
  },
  {
   "cell_type": "markdown",
   "metadata": {},
   "source": [
    "# Kane's Equations"
   ]
  },
  {
   "cell_type": "code",
   "execution_count": 33,
   "metadata": {},
   "outputs": [],
   "source": [
    "kdes = [u1_eq.rhs - u1_eq.lhs,\n",
    "        u2_eq.rhs - u2_eq.lhs,\n",
    "        u3_eq.rhs - u3_eq.lhs]"
   ]
  },
  {
   "cell_type": "code",
   "execution_count": 34,
   "metadata": {},
   "outputs": [],
   "source": [
    "block = me.Particle('block', Pab, ma)\n",
    "pendulum = me.RigidBody('pendulum', Bo, B, mb, (IB, Bo))\n",
    "bob = me.Particle('bob', Pc, mc)\n",
    "\n",
    "bodies = [block, pendulum, bob]"
   ]
  },
  {
   "cell_type": "markdown",
   "metadata": {},
   "source": [
    "Loads are a list of (force, point) or reference (frame, torque) 2-tuples:"
   ]
  },
  {
   "cell_type": "code",
   "execution_count": 35,
   "metadata": {},
   "outputs": [],
   "source": [
    "loads = [(Pab, Rab),\n",
    "         (Bo, Rbo),\n",
    "         (Pc, Rc),\n",
    "         (B, TB),\n",
    "         (C, TC)]"
   ]
  },
  {
   "cell_type": "code",
   "execution_count": 36,
   "metadata": {},
   "outputs": [],
   "source": [
    "kane = me.KanesMethod(N, (q1, q2, q3), (u1, u2, u3), kd_eqs=kdes)"
   ]
  },
  {
   "cell_type": "code",
   "execution_count": 37,
   "metadata": {},
   "outputs": [],
   "source": [
    "fr, frstar = kane.kanes_equations(bodies, loads=loads)"
   ]
  },
  {
   "cell_type": "markdown",
   "metadata": {},
   "source": [
    "# Simulation"
   ]
  },
  {
   "cell_type": "code",
   "execution_count": 38,
   "metadata": {},
   "outputs": [],
   "source": [
    "from pydy.system import System\n",
    "import numpy as np  # provides basic array types and some linear algebra\n",
    "import matplotlib.pyplot as plt  # used for plots"
   ]
  },
  {
   "cell_type": "code",
   "execution_count": 39,
   "metadata": {},
   "outputs": [],
   "source": [
    "sys = System(kane)"
   ]
  },
  {
   "cell_type": "markdown",
   "metadata": {},
   "source": [
    "Define numerical values for each constant using a dictionary. Make sure units are compatible!"
   ]
  },
  {
   "cell_type": "code",
   "execution_count": 40,
   "metadata": {},
   "outputs": [],
   "source": [
    "sys.constants = {ma: 1.0,  # kg\n",
    "                 mb: 2.0,  # kg\n",
    "                 mc: 1.0,  # kg\n",
    "                 g: 9.81,  # m/s/s\n",
    "                 l: 2.0,  # m\n",
    "                 IB_bo: 2.0,  # kg*m**2\n",
    "                 c: 10.0,  # kg/s\n",
    "                 k: 60.0,  # N/m\n",
    "                 kT: 10.0}  # N*m/rad"
   ]
  },
  {
   "cell_type": "markdown",
   "metadata": {},
   "source": [
    "Provide an array of monotonic values of time that youd like the state values reported at."
   ]
  },
  {
   "cell_type": "code",
   "execution_count": 41,
   "metadata": {},
   "outputs": [],
   "source": [
    "sys.times = np.linspace(0.0, 20.0, num=500)"
   ]
  },
  {
   "cell_type": "markdown",
   "metadata": {},
   "source": [
    "Set the initial conditions for each state."
   ]
  },
  {
   "cell_type": "code",
   "execution_count": 42,
   "metadata": {},
   "outputs": [
    {
     "data": {
      "image/png": "[encoded data removed]",
      "text/latex": [
       "$\\displaystyle \\left[ q_{1}, \\  q_{2}, \\  q_{3}, \\  u_{1}, \\  u_{2}, \\  u_{3}\\right]$"
      ],
      "text/plain": [
       "[q₁, q₂, q₃, u₁, u₂, u₃]"
      ]
     },
     "execution_count": 42,
     "metadata": {},
     "output_type": "execute_result"
    }
   ],
   "source": [
    "sys.states"
   ]
  },
  {
   "cell_type": "code",
   "execution_count": 43,
   "metadata": {},
   "outputs": [],
   "source": [
    "sys.initial_conditions = {q1: 1.0,  # m\n",
    "                          q2: 0.0,  # rad\n",
    "                          q3: 0.0,  # rad\n",
    "                          u1: 0.0,  # m/s\n",
    "                          u2: 0.0,  # rad/s\n",
    "                          u3: 0.0}  # rad/s"
   ]
  },
  {
   "cell_type": "markdown",
   "metadata": {},
   "source": [
    "There are several ways that the specified force and torque can be provided to the system. Here are three options, the last one is acutally used.\n",
    "\n",
    "1) A single value can be provided to set the force and torque to be constant."
   ]
  },
  {
   "cell_type": "code",
   "execution_count": 44,
   "metadata": {},
   "outputs": [],
   "source": [
    "specifieds = {F: 0.0,  # N\n",
    "              T: 1.0}  # N*m"
   ]
  },
  {
   "cell_type": "markdown",
   "metadata": {},
   "source": [
    "2) The same thing as 1) can be done using an array."
   ]
  },
  {
   "cell_type": "code",
   "execution_count": 45,
   "metadata": {},
   "outputs": [],
   "source": [
    "specifieds = {(F, T): np.array([0.0, 1.0])}"
   ]
  },
  {
   "cell_type": "markdown",
   "metadata": {},
   "source": [
    "3) A numerical function can be defined to calculate the input at a specific time."
   ]
  },
  {
   "cell_type": "code",
   "execution_count": 46,
   "metadata": {},
   "outputs": [],
   "source": [
    "def sin_f(x, t):\n",
    "    \"\"\"Returns the force F given the state vector x and time value t.\n",
    "    \n",
    "    Parameters\n",
    "    ==========\n",
    "    x : ndarray, shape(n,)\n",
    "        The states in the order specified in System.states.\n",
    "    t : float\n",
    "        The value of time.\n",
    "        \n",
    "    Returns\n",
    "    =======\n",
    "    float\n",
    "        The value of the force at time t.\n",
    "    \n",
    "    \"\"\"\n",
    "    return 1.0 * np.sin(2 * np.pi * t)\n",
    "\n",
    "specifieds = {F: sin_f,  # N\n",
    "              T: 1.0}  # N*m"
   ]
  },
  {
   "cell_type": "markdown",
   "metadata": {},
   "source": [
    "4) A single numerical function can also be used for both."
   ]
  },
  {
   "cell_type": "code",
   "execution_count": 47,
   "metadata": {},
   "outputs": [],
   "source": [
    "def sin_f_t(x, t):\n",
    "    return  np.array([5.0 * np.sin(2.0 * np.pi * t),\n",
    "                      10.0 * np.cos(2.0 * np.pi * t)])\n",
    "\n",
    "specifieds = {(F, T): sin_f_t}"
   ]
  },
  {
   "cell_type": "code",
   "execution_count": 48,
   "metadata": {},
   "outputs": [],
   "source": [
    "sys.specifieds = specifieds"
   ]
  },
  {
   "cell_type": "markdown",
   "metadata": {},
   "source": [
    "Integrate the equatiosn of motion and get the state trajectories `x`:"
   ]
  },
  {
   "cell_type": "code",
   "execution_count": 49,
   "metadata": {},
   "outputs": [],
   "source": [
    "x = sys.integrate()"
   ]
  },
  {
   "cell_type": "code",
   "execution_count": 50,
   "metadata": {},
   "outputs": [
    {
     "data": {
      "image/png": "[encoded data removed]",
      "text/latex": [
       "$\\displaystyle \\left( 500, \\  6\\right)$"
      ],
      "text/plain": [
       "(500, 6)"
      ]
     },
     "execution_count": 50,
     "metadata": {},
     "output_type": "execute_result"
    }
   ],
   "source": [
    "x.shape"
   ]
  },
  {
   "cell_type": "markdown",
   "metadata": {},
   "source": [
    "# Plot Results"
   ]
  },
  {
   "cell_type": "code",
   "execution_count": 51,
   "metadata": {},
   "outputs": [
    {
     "data": {
      "image/png": "[encoded data removed]",
      "text/plain": [
       "<Figure size 432x288 with 1 Axes>"
      ]
     },
     "metadata": {
      "needs_background": "light"
     },
     "output_type": "display_data"
    }
   ],
   "source": [
    "axes = plt.plot(sys.times, x)"
   ]
  },
  {
   "cell_type": "code",
   "execution_count": 52,
   "metadata": {},
   "outputs": [
    {
     "data": {
      "text/plain": [
       "Text(0, 0.5, 'Angle [deg]')"
      ]
     },
     "execution_count": 52,
     "metadata": {},
     "output_type": "execute_result"
    },
    {
     "data": {
      "image/png": "[encoded data removed]",
      "text/plain": [
       "<Figure size 432x288 with 2 Axes>"
      ]
     },
     "metadata": {
      "needs_background": "light"
     },
     "output_type": "display_data"
    }
   ],
   "source": [
    "fig, axes = plt.subplots(2, 1, sharex=True)\n",
    "axes[0].plot(sys.times, x[:, 0])\n",
    "axes[0].set_ylabel('{} [m]'.format(sm.latex(q1, mode='inline')))\n",
    "axes[1].plot(sys.times, np.rad2deg(x[:, 1:3]))\n",
    "axes[1].legend([sm.latex(q, mode='inline') for q in (q2, q3)])\n",
    "axes[1].set_xlabel('Time [s]')\n",
    "axes[1].set_ylabel('Angle [deg]')"
   ]
  },
  {
   "cell_type": "markdown",
   "metadata": {},
   "source": [
    "# Animate with PyDy and pythreejs"
   ]
  },
  {
   "cell_type": "code",
   "execution_count": 53,
   "metadata": {},
   "outputs": [],
   "source": [
    "from pydy.viz.shapes import Cube, Cylinder, Sphere, Plane\n",
    "from pydy.viz.visualization_frame import VisualizationFrame\n",
    "from pydy.viz import Scene"
   ]
  },
  {
   "cell_type": "markdown",
   "metadata": {},
   "source": [
    "Define some PyDy shapes for each moving object you want visible in the scene. Each shape needs a unique name with no spaces."
   ]
  },
  {
   "cell_type": "code",
   "execution_count": 54,
   "metadata": {},
   "outputs": [],
   "source": [
    "block_shape = Cube(0.25, color='azure', name='block')\n",
    "cpendulum_shape = Plane(l, l/4, color='mediumpurple', name='cpendulum')\n",
    "spendulum_shape = Cylinder(l, 0.02, color='azure', name='spendulum')\n",
    "bob_shape = Sphere(0.2, color='mediumpurple', name='bob')"
   ]
  },
  {
   "cell_type": "markdown",
   "metadata": {},
   "source": [
    "Create a visualization frame that attaches a shape to a reference frame and point. Note that the center of the plane and cylinder for the two pendulums is at its geometric center, so two new points are created so that the position of those points are calculated instead of the mass centers, which are not at the geometric centers."
   ]
  },
  {
   "cell_type": "code",
   "execution_count": 55,
   "metadata": {},
   "outputs": [],
   "source": [
    "v1 = VisualizationFrame('block', N, Pab, block_shape)\n",
    "\n",
    "v2 = VisualizationFrame('cpendulum',\n",
    "                        B,\n",
    "                        Pab.locatenew('Bc', -l/2*B.y),\n",
    "                        cpendulum_shape)\n",
    "\n",
    "v3 = VisualizationFrame('spendulum', \n",
    "                        C,\n",
    "                        Pbc.locatenew('Cc', -l/2*C.y),\n",
    "                        spendulum_shape)\n",
    "\n",
    "v4 = VisualizationFrame('bob', C, Pc, bob_shape)"
   ]
  },
  {
   "cell_type": "markdown",
   "metadata": {},
   "source": [
    "Create a scene with the origin point O and base reference frame N and the fully defined `System`."
   ]
  },
  {
   "cell_type": "code",
   "execution_count": 56,
   "metadata": {},
   "outputs": [],
   "source": [
    "scene = Scene(N, O, v1, v2, v3, v4, system=sys)"
   ]
  },
  {
   "cell_type": "markdown",
   "metadata": {},
   "source": [
    "Make sure pythreejs is installed and then call `display_jupyter` for a 3D animation of the system."
   ]
  },
  {
   "cell_type": "code",
   "execution_count": 57,
   "metadata": {},
   "outputs": [
    {
     "data": {
      "application/vnd.jupyter.widget-view+json": {
       "model_id": "4d862276a0a74ad99595d4eecef20852",
       "version_major": 2,
       "version_minor": 0
      },
      "text/plain": [
       "VBox(children=(AnimationAction(clip=AnimationClip(duration=20.0, tracks=(VectorKeyframeTrack(name='scene/block…"
      ]
     },
     "metadata": {},
     "output_type": "display_data"
    }
   ],
   "source": [
    "scene.display_jupyter(axes_arrow_length=1.0)"
   ]
  },
  {
   "cell_type": "markdown",
   "metadata": {},
   "source": [
    "It is then fairly simple to change constants, initial conditions, simulation time, or specified inputs and visualize the effects. Below the lateral spring is stretched more initially and when `display_jupyter()` is called the system equations are integrated with the new initial condition."
   ]
  },
  {
   "cell_type": "code",
   "execution_count": 58,
   "metadata": {},
   "outputs": [],
   "source": [
    "sys.initial_conditions[q1] = 5.0  # m"
   ]
  },
  {
   "cell_type": "code",
   "execution_count": 59,
   "metadata": {},
   "outputs": [
    {
     "data": {
      "application/vnd.jupyter.widget-view+json": {
       "model_id": "eab3d23f940b471da90f214658e786c5",
       "version_major": 2,
       "version_minor": 0
      },
      "text/plain": [
       "VBox(children=(AnimationAction(clip=AnimationClip(duration=20.0, tracks=(VectorKeyframeTrack(name='scene/block…"
      ]
     },
     "metadata": {},
     "output_type": "display_data"
    }
   ],
   "source": [
    "scene.display_jupyter(axes_arrow_length=1.0)"
   ]
  }
 ],
 "metadata": {
  "kernelspec": {
   "display_name": "Python 3",
   "language": "python",
   "name": "python3"
  },
  "language_info": {
   "codemirror_mode": {
    "name": "ipython",
    "version": 3
   },
   "file_extension": ".py",
   "mimetype": "text/x-python",
   "name": "python",
   "nbconvert_exporter": "python",
   "pygments_lexer": "ipython3",
   "version": "3.8.0"
  }
 },
 "nbformat": 4,
 "nbformat_minor": 4
}
